{
  "nbformat": 4,
  "nbformat_minor": 0,
  "metadata": {
    "colab": {
      "provenance": [],
      "authorship_tag": "ABX9TyNadcY2pL2ZZ01s53XE3U/q",
      "include_colab_link": true
    },
    "kernelspec": {
      "name": "python3",
      "display_name": "Python 3"
    },
    "language_info": {
      "name": "python"
    }
  },
  "cells": [
    {
      "cell_type": "markdown",
      "metadata": {
        "id": "view-in-github",
        "colab_type": "text"
      },
      "source": [
        "<a href=\"https://colab.research.google.com/github/shailavij/ML-Projects/blob/master/Optimisation_Google_OR.ipynb\" target=\"_parent\"><img src=\"https://colab.research.google.com/assets/colab-badge.svg\" alt=\"Open In Colab\"/></a>"
      ]
    },
    {
      "cell_type": "markdown",
      "source": [
        "https://developers.google.com/optimization/scheduling/job_shop"
      ],
      "metadata": {
        "id": "eoI2Xl0-jf9K"
      }
    },
    {
      "cell_type": "code",
      "execution_count": null,
      "metadata": {
        "colab": {
          "base_uri": "https://localhost:8080/"
        },
        "id": "HP2JbMMIgrhN",
        "outputId": "b41cc213-bad0-4c1d-e2e7-68a864c4f7aa"
      },
      "outputs": [
        {
          "output_type": "stream",
          "name": "stdout",
          "text": [
            "Looking in indexes: https://pypi.org/simple, https://us-python.pkg.dev/colab-wheels/public/simple/\n",
            "Requirement already satisfied: ortools in /root/.local/lib/python3.8/site-packages (9.5.2237)\n",
            "Requirement already satisfied: protobuf>=4.21.5 in /root/.local/lib/python3.8/site-packages (from ortools) (4.21.12)\n",
            "Requirement already satisfied: numpy>=1.13.3 in /usr/local/lib/python3.8/dist-packages (from ortools) (1.21.6)\n",
            "Requirement already satisfied: absl-py>=0.13 in /usr/local/lib/python3.8/dist-packages (from ortools) (1.3.0)\n"
          ]
        }
      ],
      "source": [
        "!python3 -m pip install -U --user ortools\n"
      ]
    },
    {
      "cell_type": "code",
      "source": [
        "!pip install ortools"
      ],
      "metadata": {
        "colab": {
          "base_uri": "https://localhost:8080/"
        },
        "id": "r4RxE_imhvDf",
        "outputId": "c210747c-9293-4cf1-f873-9a8b7fd96c51"
      },
      "execution_count": null,
      "outputs": [
        {
          "output_type": "stream",
          "name": "stdout",
          "text": [
            "Looking in indexes: https://pypi.org/simple, https://us-python.pkg.dev/colab-wheels/public/simple/\n",
            "Requirement already satisfied: ortools in /root/.local/lib/python3.8/site-packages (9.5.2237)\n",
            "Requirement already satisfied: absl-py>=0.13 in /usr/local/lib/python3.8/dist-packages (from ortools) (1.3.0)\n",
            "Requirement already satisfied: protobuf>=4.21.5 in /root/.local/lib/python3.8/site-packages (from ortools) (4.21.12)\n",
            "Requirement already satisfied: numpy>=1.13.3 in /usr/local/lib/python3.8/dist-packages (from ortools) (1.21.6)\n"
          ]
        }
      ]
    },
    {
      "cell_type": "code",
      "source": [
        "import collections\n",
        "from ortools.sat.python import cp_model"
      ],
      "metadata": {
        "id": "97K0A1WxifrQ"
      },
      "execution_count": null,
      "outputs": []
    },
    {
      "cell_type": "code",
      "source": [
        "\"\"\"Minimal jobshop example.\"\"\"\n",
        "import collections\n",
        "from ortools.sat.python import cp_model\n",
        "import plotly.figure_factory as ff\n",
        "import pandas as pd\n",
        "\n",
        "plan_date = pd.to_datetime('08/12/2022 09:00:00')\n",
        "\n",
        "def visualize_schedule(assigned_jobs,all_staffs,plan_date):\n",
        "  final = []\n",
        "  for staff in all_staffs:\n",
        "      assigned_jobs[staff].sort()\n",
        "      for assigned_task in assigned_jobs[staff]:\n",
        "          name = 'Job_%i' % assigned_task.job\n",
        "          temp = dict(Task=staff,Start=plan_date + pd.DateOffset(minutes = assigned_task.start),\n",
        "                      Finish= plan_date + pd.DateOffset(minutes = (assigned_task.start + assigned_task.duration)),\n",
        "                      Resource=name)\n",
        "          final.append(temp)\n",
        "  final.sort(key = lambda x: x['Task'])\n",
        "  return final\n",
        "\n",
        "\n",
        "def main():\n",
        "    \"\"\"Minimal jobshop problem.\"\"\"\n",
        "    # Data.\n",
        "    jobs_data = [  # task = (machine_id, processing_time).\n",
        "        [(0, 3), (1, 2), (2, 2)],  # Job0\n",
        "        [(0, 2), (2, 1), (1, 4)],  # Job1\n",
        "        [(1, 4), (2, 3)]  # Job2\n",
        "    ]\n",
        "\n",
        "    machines_count = 1 + max(task[0] for job in jobs_data for task in job)\n",
        "    all_machines = range(machines_count)\n",
        "    # Computes horizon dynamically as the sum of all durations.\n",
        "    horizon = sum(task[1] for job in jobs_data for task in job)\n",
        "\n",
        "    # Create the model.\n",
        "    model = cp_model.CpModel()\n",
        "\n",
        "    # Named tuple to store information about created variables.\n",
        "    task_type = collections.namedtuple('task_type', 'start end interval')\n",
        "    # Named tuple to manipulate solution information.\n",
        "    assigned_task_type = collections.namedtuple('assigned_task_type',\n",
        "                                                'start job index duration')\n",
        "\n",
        "    # Creates job intervals and add to the corresponding machine lists.\n",
        "    all_tasks = {}\n",
        "    machine_to_intervals = collections.defaultdict(list)\n",
        "\n",
        "    for job_id, job in enumerate(jobs_data):\n",
        "        for task_id, task in enumerate(job):\n",
        "            machine = task[0]\n",
        "            duration = task[1]\n",
        "            suffix = '_%i_%i' % (job_id, task_id)\n",
        "            start_var = model.NewIntVar(0, horizon, 'start' + suffix)\n",
        "            end_var = model.NewIntVar(0, horizon, 'end' + suffix)\n",
        "            interval_var = model.NewIntervalVar(start_var, duration, end_var,\n",
        "                                                'interval' + suffix)\n",
        "            all_tasks[job_id, task_id] = task_type(start=start_var,\n",
        "                                                   end=end_var,\n",
        "                                                   interval=interval_var)\n",
        "            machine_to_intervals[machine].append(interval_var)\n",
        "\n",
        "    # Create and add disjunctive constraints.\n",
        "    for machine in all_machines:\n",
        "        model.AddNoOverlap(machine_to_intervals[machine])\n",
        "\n",
        "    # Precedences inside a job.\n",
        "    for job_id, job in enumerate(jobs_data):\n",
        "        for task_id in range(len(job) - 1):\n",
        "            model.Add(all_tasks[job_id, task_id +\n",
        "                                1].start >= all_tasks[job_id, task_id].end)\n",
        "\n",
        "    # Makespan objective.\n",
        "    obj_var = model.NewIntVar(0, horizon, 'makespan')\n",
        "    model.AddMaxEquality(obj_var, [\n",
        "        all_tasks[job_id, len(job) - 1].end\n",
        "        for job_id, job in enumerate(jobs_data)\n",
        "    ])\n",
        "    model.Minimize(obj_var)\n",
        "\n",
        "    # Creates the solver and solve.\n",
        "    solver = cp_model.CpSolver()\n",
        "    status = solver.Solve(model)\n",
        "\n",
        "    if status == cp_model.OPTIMAL or status == cp_model.FEASIBLE:\n",
        "        print('Solution:')\n",
        "        # Create one list of assigned tasks per machine.\n",
        "        assigned_jobs = collections.defaultdict(list)\n",
        "        for job_id, job in enumerate(jobs_data):\n",
        "            for task_id, task in enumerate(job):\n",
        "                machine = task[0]\n",
        "                assigned_jobs[machine].append(\n",
        "                    assigned_task_type(start=solver.Value(\n",
        "                        all_tasks[job_id, task_id].start),\n",
        "                                       job=job_id,\n",
        "                                       index=task_id,\n",
        "                                       duration=task[1]))\n",
        "\n",
        "        # Create per machine output lines.\n",
        "        output = ''\n",
        "        for machine in all_machines:\n",
        "            # Sort by starting time.\n",
        "            assigned_jobs[machine].sort()\n",
        "            sol_line_tasks = 'Machine ' + str(machine) + ': '\n",
        "            sol_line = '           '\n",
        "\n",
        "            for assigned_task in assigned_jobs[machine]:\n",
        "                name = 'job_%i_task_%i' % (assigned_task.job,\n",
        "                                           assigned_task.index)\n",
        "                # Add spaces to output to align columns.\n",
        "                sol_line_tasks += '%-15s' % name\n",
        "\n",
        "                start = assigned_task.start\n",
        "                duration = assigned_task.duration\n",
        "                sol_tmp = '[%i,%i]' % (start, start + duration)\n",
        "                # Add spaces to output to align columns.\n",
        "                sol_line += '%-15s' % sol_tmp\n",
        "\n",
        "            sol_line += '\\n'\n",
        "            sol_line_tasks += '\\n'\n",
        "            output += sol_line_tasks\n",
        "            output += sol_line\n",
        "\n",
        "        # Finally print the solution found.\n",
        "        print(f'Optimal Schedule Length: {solver.ObjectiveValue()}')\n",
        "        print(output)\n",
        "    else:\n",
        "        print('No solution found.')\n",
        "\n",
        "    # Statistics.\n",
        "    print('\\nStatistics')\n",
        "    print('  - conflicts: %i' % solver.NumConflicts())\n",
        "    print('  - branches : %i' % solver.NumBranches())\n",
        "    print('  - wall time: %f s' % solver.WallTime())\n",
        "  \n",
        "    res = visualize_schedule(assigned_jobs,all_machines,plan_date)\n",
        "    fig = ff.create_gantt(res, index_col='Resource', show_colorbar=True, group_tasks=True)\n",
        "    fig.show()\n",
        "    # Finally, print the solution found.\n",
        "    print('Optimal Schedule Length: %i' % solver.ObjectiveValue())\n",
        "\n",
        "\n",
        "\n",
        "\n",
        "if __name__ == '__main__':\n",
        "    main()"
      ],
      "metadata": {
        "colab": {
          "base_uri": "https://localhost:8080/",
          "height": 891
        },
        "id": "gduDvES8g86F",
        "outputId": "86dc9cf5-2a09-4b27-fafc-472510245ee4"
      },
      "execution_count": null,
      "outputs": [
        {
          "output_type": "stream",
          "name": "stdout",
          "text": [
            "Solution:\n",
            "Optimal Schedule Length: 11.0\n",
            "Machine 0: job_1_task_0   job_0_task_0   \n",
            "           [0,2]          [2,5]          \n",
            "Machine 1: job_2_task_0   job_0_task_1   job_1_task_2   \n",
            "           [0,4]          [5,7]          [7,11]         \n",
            "Machine 2: job_1_task_1   job_2_task_1   job_0_task_2   \n",
            "           [2,3]          [4,7]          [7,9]          \n",
            "\n",
            "\n",
            "Statistics\n",
            "  - conflicts: 1\n",
            "  - branches : 12\n",
            "  - wall time: 0.003731 s\n"
          ]
        },
        {
          "output_type": "display_data",
          "data": {
            "text/html": [
              "<html>\n",
              "<head><meta charset=\"utf-8\" /></head>\n",
              "<body>\n",
              "    <div>            <script src=\"https://cdnjs.cloudflare.com/ajax/libs/mathjax/2.7.5/MathJax.js?config=TeX-AMS-MML_SVG\"></script><script type=\"text/javascript\">if (window.MathJax) {MathJax.Hub.Config({SVG: {font: \"STIX-Web\"}});}</script>                <script type=\"text/javascript\">window.PlotlyConfig = {MathJaxConfig: 'local'};</script>\n",
              "        <script src=\"https://cdn.plot.ly/plotly-2.8.3.min.js\"></script>                <div id=\"3242f055-b4b5-4140-adaf-fd1bbe3b5956\" class=\"plotly-graph-div\" style=\"height:600px; width:100%;\"></div>            <script type=\"text/javascript\">                                    window.PLOTLYENV=window.PLOTLYENV || {};                                    if (document.getElementById(\"3242f055-b4b5-4140-adaf-fd1bbe3b5956\")) {                    Plotly.newPlot(                        \"3242f055-b4b5-4140-adaf-fd1bbe3b5956\",                        [{\"fill\":\"toself\",\"fillcolor\":\"rgb(255, 127, 14)\",\"hoverinfo\":\"name\",\"legendgroup\":\"rgb(255, 127, 14)\",\"mode\":\"none\",\"name\":\"Job_1\",\"showlegend\":true,\"x\":[\"2022-08-12T09:00:00\",\"2022-08-12T09:02:00\",\"2022-08-12T09:02:00\",\"2022-08-12T09:00:00\",\"2022-08-12T09:00:00\",\"2022-08-12T09:07:00\",\"2022-08-12T09:11:00\",\"2022-08-12T09:11:00\",\"2022-08-12T09:07:00\",\"2022-08-12T09:07:00\",\"2022-08-12T09:02:00\",\"2022-08-12T09:03:00\",\"2022-08-12T09:03:00\",\"2022-08-12T09:02:00\"],\"y\":[1.8,1.8,2.2,2.2,null,0.8,0.8,1.2,1.2,null,-0.2,-0.2,0.2,0.2],\"type\":\"scatter\"},{\"fill\":\"toself\",\"fillcolor\":\"rgb(31, 119, 180)\",\"hoverinfo\":\"name\",\"legendgroup\":\"rgb(31, 119, 180)\",\"mode\":\"none\",\"name\":\"Job_0\",\"showlegend\":true,\"x\":[\"2022-08-12T09:02:00\",\"2022-08-12T09:05:00\",\"2022-08-12T09:05:00\",\"2022-08-12T09:02:00\",\"2022-08-12T09:02:00\",\"2022-08-12T09:05:00\",\"2022-08-12T09:07:00\",\"2022-08-12T09:07:00\",\"2022-08-12T09:05:00\",\"2022-08-12T09:05:00\",\"2022-08-12T09:07:00\",\"2022-08-12T09:09:00\",\"2022-08-12T09:09:00\",\"2022-08-12T09:07:00\"],\"y\":[1.8,1.8,2.2,2.2,null,0.8,0.8,1.2,1.2,null,-0.2,-0.2,0.2,0.2],\"type\":\"scatter\"},{\"fill\":\"toself\",\"fillcolor\":\"rgb(44, 160, 44)\",\"hoverinfo\":\"name\",\"legendgroup\":\"rgb(44, 160, 44)\",\"mode\":\"none\",\"name\":\"Job_2\",\"showlegend\":true,\"x\":[\"2022-08-12T09:00:00\",\"2022-08-12T09:04:00\",\"2022-08-12T09:04:00\",\"2022-08-12T09:00:00\",\"2022-08-12T09:00:00\",\"2022-08-12T09:04:00\",\"2022-08-12T09:07:00\",\"2022-08-12T09:07:00\",\"2022-08-12T09:04:00\"],\"y\":[0.8,0.8,1.2,1.2,null,-0.2,-0.2,0.2,0.2],\"type\":\"scatter\"},{\"legendgroup\":\"rgb(255, 127, 14)\",\"marker\":{\"color\":\"rgb(255, 127, 14)\",\"opacity\":0,\"size\":1},\"mode\":\"markers\",\"name\":\"\",\"showlegend\":false,\"text\":[null,null,null,null,null,null],\"x\":[\"2022-08-12T09:00:00\",\"2022-08-12T09:02:00\",\"2022-08-12T09:07:00\",\"2022-08-12T09:11:00\",\"2022-08-12T09:02:00\",\"2022-08-12T09:03:00\"],\"y\":[2,2,1,1,0,0],\"type\":\"scatter\"},{\"legendgroup\":\"rgb(31, 119, 180)\",\"marker\":{\"color\":\"rgb(31, 119, 180)\",\"opacity\":0,\"size\":1},\"mode\":\"markers\",\"name\":\"\",\"showlegend\":false,\"text\":[null,null,null,null,null,null],\"x\":[\"2022-08-12T09:02:00\",\"2022-08-12T09:05:00\",\"2022-08-12T09:05:00\",\"2022-08-12T09:07:00\",\"2022-08-12T09:07:00\",\"2022-08-12T09:09:00\"],\"y\":[2,2,1,1,0,0],\"type\":\"scatter\"},{\"legendgroup\":\"rgb(44, 160, 44)\",\"marker\":{\"color\":\"rgb(44, 160, 44)\",\"opacity\":0,\"size\":1},\"mode\":\"markers\",\"name\":\"\",\"showlegend\":false,\"text\":[null,null,null,null],\"x\":[\"2022-08-12T09:00:00\",\"2022-08-12T09:04:00\",\"2022-08-12T09:04:00\",\"2022-08-12T09:07:00\"],\"y\":[1,1,0,0],\"type\":\"scatter\"}],                        {\"height\":600,\"hovermode\":\"closest\",\"showlegend\":true,\"title\":{\"text\":\"Gantt Chart\"},\"xaxis\":{\"rangeselector\":{\"buttons\":[{\"count\":7,\"label\":\"1w\",\"step\":\"day\",\"stepmode\":\"backward\"},{\"count\":1,\"label\":\"1m\",\"step\":\"month\",\"stepmode\":\"backward\"},{\"count\":6,\"label\":\"6m\",\"step\":\"month\",\"stepmode\":\"backward\"},{\"count\":1,\"label\":\"YTD\",\"step\":\"year\",\"stepmode\":\"todate\"},{\"count\":1,\"label\":\"1y\",\"step\":\"year\",\"stepmode\":\"backward\"},{\"step\":\"all\"}]},\"showgrid\":false,\"type\":\"date\",\"zeroline\":false},\"yaxis\":{\"autorange\":false,\"range\":[-1,4],\"showgrid\":false,\"ticktext\":[2,1,0],\"tickvals\":[0,1,2],\"zeroline\":false},\"template\":{\"data\":{\"bar\":[{\"error_x\":{\"color\":\"#2a3f5f\"},\"error_y\":{\"color\":\"#2a3f5f\"},\"marker\":{\"line\":{\"color\":\"#E5ECF6\",\"width\":0.5},\"pattern\":{\"fillmode\":\"overlay\",\"size\":10,\"solidity\":0.2}},\"type\":\"bar\"}],\"barpolar\":[{\"marker\":{\"line\":{\"color\":\"#E5ECF6\",\"width\":0.5},\"pattern\":{\"fillmode\":\"overlay\",\"size\":10,\"solidity\":0.2}},\"type\":\"barpolar\"}],\"carpet\":[{\"aaxis\":{\"endlinecolor\":\"#2a3f5f\",\"gridcolor\":\"white\",\"linecolor\":\"white\",\"minorgridcolor\":\"white\",\"startlinecolor\":\"#2a3f5f\"},\"baxis\":{\"endlinecolor\":\"#2a3f5f\",\"gridcolor\":\"white\",\"linecolor\":\"white\",\"minorgridcolor\":\"white\",\"startlinecolor\":\"#2a3f5f\"},\"type\":\"carpet\"}],\"choropleth\":[{\"colorbar\":{\"outlinewidth\":0,\"ticks\":\"\"},\"type\":\"choropleth\"}],\"contour\":[{\"colorbar\":{\"outlinewidth\":0,\"ticks\":\"\"},\"colorscale\":[[0.0,\"#0d0887\"],[0.1111111111111111,\"#46039f\"],[0.2222222222222222,\"#7201a8\"],[0.3333333333333333,\"#9c179e\"],[0.4444444444444444,\"#bd3786\"],[0.5555555555555556,\"#d8576b\"],[0.6666666666666666,\"#ed7953\"],[0.7777777777777778,\"#fb9f3a\"],[0.8888888888888888,\"#fdca26\"],[1.0,\"#f0f921\"]],\"type\":\"contour\"}],\"contourcarpet\":[{\"colorbar\":{\"outlinewidth\":0,\"ticks\":\"\"},\"type\":\"contourcarpet\"}],\"heatmap\":[{\"colorbar\":{\"outlinewidth\":0,\"ticks\":\"\"},\"colorscale\":[[0.0,\"#0d0887\"],[0.1111111111111111,\"#46039f\"],[0.2222222222222222,\"#7201a8\"],[0.3333333333333333,\"#9c179e\"],[0.4444444444444444,\"#bd3786\"],[0.5555555555555556,\"#d8576b\"],[0.6666666666666666,\"#ed7953\"],[0.7777777777777778,\"#fb9f3a\"],[0.8888888888888888,\"#fdca26\"],[1.0,\"#f0f921\"]],\"type\":\"heatmap\"}],\"heatmapgl\":[{\"colorbar\":{\"outlinewidth\":0,\"ticks\":\"\"},\"colorscale\":[[0.0,\"#0d0887\"],[0.1111111111111111,\"#46039f\"],[0.2222222222222222,\"#7201a8\"],[0.3333333333333333,\"#9c179e\"],[0.4444444444444444,\"#bd3786\"],[0.5555555555555556,\"#d8576b\"],[0.6666666666666666,\"#ed7953\"],[0.7777777777777778,\"#fb9f3a\"],[0.8888888888888888,\"#fdca26\"],[1.0,\"#f0f921\"]],\"type\":\"heatmapgl\"}],\"histogram\":[{\"marker\":{\"pattern\":{\"fillmode\":\"overlay\",\"size\":10,\"solidity\":0.2}},\"type\":\"histogram\"}],\"histogram2d\":[{\"colorbar\":{\"outlinewidth\":0,\"ticks\":\"\"},\"colorscale\":[[0.0,\"#0d0887\"],[0.1111111111111111,\"#46039f\"],[0.2222222222222222,\"#7201a8\"],[0.3333333333333333,\"#9c179e\"],[0.4444444444444444,\"#bd3786\"],[0.5555555555555556,\"#d8576b\"],[0.6666666666666666,\"#ed7953\"],[0.7777777777777778,\"#fb9f3a\"],[0.8888888888888888,\"#fdca26\"],[1.0,\"#f0f921\"]],\"type\":\"histogram2d\"}],\"histogram2dcontour\":[{\"colorbar\":{\"outlinewidth\":0,\"ticks\":\"\"},\"colorscale\":[[0.0,\"#0d0887\"],[0.1111111111111111,\"#46039f\"],[0.2222222222222222,\"#7201a8\"],[0.3333333333333333,\"#9c179e\"],[0.4444444444444444,\"#bd3786\"],[0.5555555555555556,\"#d8576b\"],[0.6666666666666666,\"#ed7953\"],[0.7777777777777778,\"#fb9f3a\"],[0.8888888888888888,\"#fdca26\"],[1.0,\"#f0f921\"]],\"type\":\"histogram2dcontour\"}],\"mesh3d\":[{\"colorbar\":{\"outlinewidth\":0,\"ticks\":\"\"},\"type\":\"mesh3d\"}],\"parcoords\":[{\"line\":{\"colorbar\":{\"outlinewidth\":0,\"ticks\":\"\"}},\"type\":\"parcoords\"}],\"pie\":[{\"automargin\":true,\"type\":\"pie\"}],\"scatter\":[{\"marker\":{\"colorbar\":{\"outlinewidth\":0,\"ticks\":\"\"}},\"type\":\"scatter\"}],\"scatter3d\":[{\"line\":{\"colorbar\":{\"outlinewidth\":0,\"ticks\":\"\"}},\"marker\":{\"colorbar\":{\"outlinewidth\":0,\"ticks\":\"\"}},\"type\":\"scatter3d\"}],\"scattercarpet\":[{\"marker\":{\"colorbar\":{\"outlinewidth\":0,\"ticks\":\"\"}},\"type\":\"scattercarpet\"}],\"scattergeo\":[{\"marker\":{\"colorbar\":{\"outlinewidth\":0,\"ticks\":\"\"}},\"type\":\"scattergeo\"}],\"scattergl\":[{\"marker\":{\"colorbar\":{\"outlinewidth\":0,\"ticks\":\"\"}},\"type\":\"scattergl\"}],\"scattermapbox\":[{\"marker\":{\"colorbar\":{\"outlinewidth\":0,\"ticks\":\"\"}},\"type\":\"scattermapbox\"}],\"scatterpolar\":[{\"marker\":{\"colorbar\":{\"outlinewidth\":0,\"ticks\":\"\"}},\"type\":\"scatterpolar\"}],\"scatterpolargl\":[{\"marker\":{\"colorbar\":{\"outlinewidth\":0,\"ticks\":\"\"}},\"type\":\"scatterpolargl\"}],\"scatterternary\":[{\"marker\":{\"colorbar\":{\"outlinewidth\":0,\"ticks\":\"\"}},\"type\":\"scatterternary\"}],\"surface\":[{\"colorbar\":{\"outlinewidth\":0,\"ticks\":\"\"},\"colorscale\":[[0.0,\"#0d0887\"],[0.1111111111111111,\"#46039f\"],[0.2222222222222222,\"#7201a8\"],[0.3333333333333333,\"#9c179e\"],[0.4444444444444444,\"#bd3786\"],[0.5555555555555556,\"#d8576b\"],[0.6666666666666666,\"#ed7953\"],[0.7777777777777778,\"#fb9f3a\"],[0.8888888888888888,\"#fdca26\"],[1.0,\"#f0f921\"]],\"type\":\"surface\"}],\"table\":[{\"cells\":{\"fill\":{\"color\":\"#EBF0F8\"},\"line\":{\"color\":\"white\"}},\"header\":{\"fill\":{\"color\":\"#C8D4E3\"},\"line\":{\"color\":\"white\"}},\"type\":\"table\"}]},\"layout\":{\"annotationdefaults\":{\"arrowcolor\":\"#2a3f5f\",\"arrowhead\":0,\"arrowwidth\":1},\"autotypenumbers\":\"strict\",\"coloraxis\":{\"colorbar\":{\"outlinewidth\":0,\"ticks\":\"\"}},\"colorscale\":{\"diverging\":[[0,\"#8e0152\"],[0.1,\"#c51b7d\"],[0.2,\"#de77ae\"],[0.3,\"#f1b6da\"],[0.4,\"#fde0ef\"],[0.5,\"#f7f7f7\"],[0.6,\"#e6f5d0\"],[0.7,\"#b8e186\"],[0.8,\"#7fbc41\"],[0.9,\"#4d9221\"],[1,\"#276419\"]],\"sequential\":[[0.0,\"#0d0887\"],[0.1111111111111111,\"#46039f\"],[0.2222222222222222,\"#7201a8\"],[0.3333333333333333,\"#9c179e\"],[0.4444444444444444,\"#bd3786\"],[0.5555555555555556,\"#d8576b\"],[0.6666666666666666,\"#ed7953\"],[0.7777777777777778,\"#fb9f3a\"],[0.8888888888888888,\"#fdca26\"],[1.0,\"#f0f921\"]],\"sequentialminus\":[[0.0,\"#0d0887\"],[0.1111111111111111,\"#46039f\"],[0.2222222222222222,\"#7201a8\"],[0.3333333333333333,\"#9c179e\"],[0.4444444444444444,\"#bd3786\"],[0.5555555555555556,\"#d8576b\"],[0.6666666666666666,\"#ed7953\"],[0.7777777777777778,\"#fb9f3a\"],[0.8888888888888888,\"#fdca26\"],[1.0,\"#f0f921\"]]},\"colorway\":[\"#636efa\",\"#EF553B\",\"#00cc96\",\"#ab63fa\",\"#FFA15A\",\"#19d3f3\",\"#FF6692\",\"#B6E880\",\"#FF97FF\",\"#FECB52\"],\"font\":{\"color\":\"#2a3f5f\"},\"geo\":{\"bgcolor\":\"white\",\"lakecolor\":\"white\",\"landcolor\":\"#E5ECF6\",\"showlakes\":true,\"showland\":true,\"subunitcolor\":\"white\"},\"hoverlabel\":{\"align\":\"left\"},\"hovermode\":\"closest\",\"mapbox\":{\"style\":\"light\"},\"paper_bgcolor\":\"white\",\"plot_bgcolor\":\"#E5ECF6\",\"polar\":{\"angularaxis\":{\"gridcolor\":\"white\",\"linecolor\":\"white\",\"ticks\":\"\"},\"bgcolor\":\"#E5ECF6\",\"radialaxis\":{\"gridcolor\":\"white\",\"linecolor\":\"white\",\"ticks\":\"\"}},\"scene\":{\"xaxis\":{\"backgroundcolor\":\"#E5ECF6\",\"gridcolor\":\"white\",\"gridwidth\":2,\"linecolor\":\"white\",\"showbackground\":true,\"ticks\":\"\",\"zerolinecolor\":\"white\"},\"yaxis\":{\"backgroundcolor\":\"#E5ECF6\",\"gridcolor\":\"white\",\"gridwidth\":2,\"linecolor\":\"white\",\"showbackground\":true,\"ticks\":\"\",\"zerolinecolor\":\"white\"},\"zaxis\":{\"backgroundcolor\":\"#E5ECF6\",\"gridcolor\":\"white\",\"gridwidth\":2,\"linecolor\":\"white\",\"showbackground\":true,\"ticks\":\"\",\"zerolinecolor\":\"white\"}},\"shapedefaults\":{\"line\":{\"color\":\"#2a3f5f\"}},\"ternary\":{\"aaxis\":{\"gridcolor\":\"white\",\"linecolor\":\"white\",\"ticks\":\"\"},\"baxis\":{\"gridcolor\":\"white\",\"linecolor\":\"white\",\"ticks\":\"\"},\"bgcolor\":\"#E5ECF6\",\"caxis\":{\"gridcolor\":\"white\",\"linecolor\":\"white\",\"ticks\":\"\"}},\"title\":{\"x\":0.05},\"xaxis\":{\"automargin\":true,\"gridcolor\":\"white\",\"linecolor\":\"white\",\"ticks\":\"\",\"title\":{\"standoff\":15},\"zerolinecolor\":\"white\",\"zerolinewidth\":2},\"yaxis\":{\"automargin\":true,\"gridcolor\":\"white\",\"linecolor\":\"white\",\"ticks\":\"\",\"title\":{\"standoff\":15},\"zerolinecolor\":\"white\",\"zerolinewidth\":2}}}},                        {\"responsive\": true}                    ).then(function(){\n",
              "                            \n",
              "var gd = document.getElementById('3242f055-b4b5-4140-adaf-fd1bbe3b5956');\n",
              "var x = new MutationObserver(function (mutations, observer) {{\n",
              "        var display = window.getComputedStyle(gd).display;\n",
              "        if (!display || display === 'none') {{\n",
              "            console.log([gd, 'removed!']);\n",
              "            Plotly.purge(gd);\n",
              "            observer.disconnect();\n",
              "        }}\n",
              "}});\n",
              "\n",
              "// Listen for the removal of the full notebook cells\n",
              "var notebookContainer = gd.closest('#notebook-container');\n",
              "if (notebookContainer) {{\n",
              "    x.observe(notebookContainer, {childList: true});\n",
              "}}\n",
              "\n",
              "// Listen for the clearing of the current output cell\n",
              "var outputEl = gd.closest('.output');\n",
              "if (outputEl) {{\n",
              "    x.observe(outputEl, {childList: true});\n",
              "}}\n",
              "\n",
              "                        })                };                            </script>        </div>\n",
              "</body>\n",
              "</html>"
            ]
          },
          "metadata": {}
        },
        {
          "output_type": "stream",
          "name": "stdout",
          "text": [
            "Optimal Schedule Length: 11\n"
          ]
        }
      ]
    },
    {
      "cell_type": "code",
      "source": [],
      "metadata": {
        "id": "l_MRUaTahbmH"
      },
      "execution_count": null,
      "outputs": []
    }
  ]
}